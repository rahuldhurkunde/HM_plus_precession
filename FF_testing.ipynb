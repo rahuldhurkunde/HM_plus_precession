{
 "cells": [
  {
   "cell_type": "markdown",
   "id": "anonymous-driver",
   "metadata": {},
   "source": [
    "Import functions "
   ]
  },
  {
   "cell_type": "code",
   "execution_count": 1,
   "id": "a7419b91-6e1f-4802-9145-20784579b5db",
   "metadata": {},
   "outputs": [],
   "source": [
    "import pycbc\n",
    "from pycbc import waveform, conversions, filter, types, distributions, detector\n",
    "import matplotlib.pyplot as plt\n",
    "import numpy as np\n",
    "import mass as mass"
   ]
  },
  {
   "cell_type": "markdown",
   "id": "front-vision",
   "metadata": {},
   "source": [
    "Read the Template Bank and initialize some variables"
   ]
  },
  {
   "cell_type": "code",
   "execution_count": 2,
   "id": "narrow-speaker",
   "metadata": {},
   "outputs": [],
   "source": [
    "class tb_params:\n",
    "        def __init__(self, m1, m2, s1z, s2z, tau0, tau3, mc, q):\n",
    "                self.m1 = m1\n",
    "                self.m2 = m2\n",
    "                self.s1z = s1z\n",
    "                self.s2z = s2z\n",
    "                self.tau0 = tau0\n",
    "                self.tau3 = tau3\n",
    "                self.mc = mc\n",
    "                self.q = q\n",
    "\n",
    "def read_tb(filename, f_min):    \n",
    "    tb_file = np.loadtxt(filename)\n",
    "    tb = []\n",
    "    for i in range(len(tb_file)):\n",
    "        temp_tau0 = conversions.pycbc.conversions.tau0_from_mass1_mass2(tb_file[i][0], tb_file[i][4], f_min)\n",
    "        temp_tau3 = conversions.pycbc.conversions.tau3_from_mass1_mass2(tb_file[i][0], tb_file[i][4], f_min)\n",
    "        temp_mc = conversions.mchirp_from_mass1_mass2(tb_file[i][0], tb_file[i][4])\n",
    "        temp_q = tb_file[i][0]/tb_file[i][4]\n",
    "        temp_obj = tb_params(tb_file[i][0], tb_file[i][4], tb_file[i][3], tb_file[i][7], temp_tau0, temp_tau3, temp_mc, temp_q)\n",
    "        tb.append(temp_obj)\n",
    "    return tb    \n",
    "\n",
    "delta_f = 1/32\n",
    "delta_t = 1.0/4096\n",
    "f_min  = 25.0\n",
    "tb = read_tb(\"nonspinPCA\", f_min)"
   ]
  },
  {
   "cell_type": "markdown",
   "id": "ongoing-agreement",
   "metadata": {},
   "source": [
    "Generate random signal parameters using certain distributions"
   ]
  },
  {
   "cell_type": "code",
   "execution_count": 20,
   "id": "neural-assurance",
   "metadata": {},
   "outputs": [
    {
     "data": {
      "image/png": "[encoded data removed]",
      "text/plain": [
       "<Figure size 432x288 with 1 Axes>"
      ]
     },
     "metadata": {
      "needs_background": "light"
     },
     "output_type": "display_data"
    }
   ],
   "source": [
    "class sg_params:\n",
    "        def __init__(self, m1, m2, s1z, s2z, tau0, tau3, dist, inc, polarization, right_asc, dec):\n",
    "                self.m1 = m1\n",
    "                self.m2 = m2\n",
    "                self.s1z = s1z\n",
    "                self.s2z = s2z\n",
    "                self.tau0 = tau0\n",
    "                self.tau3 = tau3\n",
    "                self.dist = dist\n",
    "                self.inc = inc\n",
    "                self.polarization = polarization\n",
    "                self.right_asc = right_asc\n",
    "                self.dec = dec\n",
    "\n",
    "def random_params_from_tb(tb, f_min, nsignal):\n",
    "    tau0_min = min(x.tau0 for x in tb)\n",
    "    tau0_max = max(x.tau0 for x in tb)\n",
    "    tau3_min = min(x.tau3 for x in tb)\n",
    "    tau3_max = max(x.tau3 for x in tb)\n",
    "    mc_min = min(x.mc for x in tb)\n",
    "    mc_max = max(x.mc for x in tb)\n",
    "    q_min = min(x.q for x in tb)\n",
    "    q_max = max(x.q for x in tb)\n",
    "    #print( mc_min, mc_max, q_min, q_max)\n",
    "    \n",
    "    mc_distribution = mass.MchirpfromUniformMass1Mass2(mc=(mc_min, mc_max))   \n",
    "    q_distribution = mass.QfromUniformMass1Mass2(q=(q_min,q_max))\n",
    "        \n",
    "    mc_samples = mc_distribution.rvs(size=nsignal)\n",
    "    q_samples = q_distribution.rvs(size=nsignal)\n",
    "    m1 = conversions.mass1_from_mchirp_q(mc_samples['mc'],q_samples['q'])\n",
    "    m2 = conversions.mass2_from_mchirp_q(mc_samples['mc'],q_samples['q'])\n",
    "    tau0 = conversions.tau0_from_mass1_mass2(m1 ,m2, f_min)\n",
    "    tau3 = conversions.tau3_from_mass1_mass2(m1, m2, f_min)\n",
    "    s1z = np.zeros(nsignal)\n",
    "    s2z = np.zeros(nsignal)\n",
    "    dist = 200\n",
    "    inc = 0\n",
    "    polarization = np.random.uniform(0, 2*np.pi, nsignal)\n",
    "    right_asc = np.random.uniform(-1, 1, nsignal)\n",
    "    dec = np.random.uniform(-1, 1, nsignal)\n",
    "    \n",
    "    sg = []\n",
    "    for i in range(nsignal):\n",
    "        temp_obj = sg_params(m1[i], m2[i], s1z[i], s2z[i], tau0[i], tau3[i], dist, inc, polarization[i], right_asc[i], dec[i])\n",
    "        sg.append(temp_obj)\n",
    "        \n",
    "    tb_m1 = [x.m1 for x in tb]\n",
    "    tb_m2 = [x.m2 for x in tb]\n",
    "    plt.plot(tb_m1, tb_m2, '.', label='templates')\n",
    "    sg_m1 = [x.m1 for x in sg]\n",
    "    sg_m2 = [x.m2 for x in sg]\n",
    "    plt.plot(sg_m1, sg_m2, 'x', color='red', label = 'signals')\n",
    "    plt.legend()\n",
    "    plt.show()\n",
    "    return sg  \n",
    "\n",
    "nsignal = 1\n",
    "sg = random_params_from_tb(tb, f_min, nsignal)"
   ]
  },
  {
   "cell_type": "markdown",
   "id": "weighted-idaho",
   "metadata": {},
   "source": [
    "Generate templates and signals using IMRPhenomD"
   ]
  },
  {
   "cell_type": "code",
   "execution_count": 21,
   "id": "approximate-screening",
   "metadata": {},
   "outputs": [],
   "source": [
    "def generate_template(tb, delta_f, f_min):\n",
    "    hp, hc = waveform.get_fd_waveform(approximant = \"IMRPhenomD\",\n",
    "                                      mass1 = tb.m1,\n",
    "                                      mass2 = tb.m2,\n",
    "                                      spin1z = tb.s1z,\n",
    "                                      spin2z = tb.s2z,\n",
    "                                      delta_f = delta_f,\n",
    "                                      f_lower = f_min)\n",
    "    return hp, hc\n",
    "\n",
    "def generate_signal(sg, delta_t, f_min): \n",
    "    hp, hc = waveform.get_td_waveform(approximant = \"IMRPhenomD\",\n",
    "                                      mass1 = sg.m1,\n",
    "                                      mass2 = sg.m2,\n",
    "                                      spin1z = sg.s1z,\n",
    "                                      spin2z = sg.s2z,\n",
    "                                      distance = sg.dist,\n",
    "                                      inclination = sg.inc,\n",
    "                                      delta_t = delta_t,\n",
    "                                      f_lower = f_min)\n",
    "    return hp, hc"
   ]
  },
  {
   "cell_type": "markdown",
   "id": "f0d8bcac-3ad5-4369-aa58-bec29df094a3",
   "metadata": {},
   "source": [
    "Project signal into the detector frame"
   ]
  },
  {
   "cell_type": "code",
   "execution_count": 22,
   "id": "4df53d97-4205-4a33-b908-fa5e561e95af",
   "metadata": {},
   "outputs": [],
   "source": [
    "def signal_to_detector_frame(detector, hp_signal, hc_signal, sg):\n",
    "    fx, fy = detector.antenna_pattern(sg.right_asc, sg.dec, sg.polarization, 1126259462.0)\n",
    "    signal_detector = hp_signal*fx + hc_signal*fy\n",
    "    return signal_detector\n",
    "\n",
    "#plt.plot(hp_signal, '-', label='source')\n",
    "#plt.plot(signal_detector, '--', label = 'detector')\n",
    "#plt.legend()\n",
    "#plt.show()"
   ]
  },
  {
   "cell_type": "markdown",
   "id": "0fe33d2b-dd71-4260-863c-8e6a6a81eb74",
   "metadata": {},
   "source": [
    "Compute match with the templates having a tau0 mismatch (w.r.t signal) within a tolearance  "
   ]
  },
  {
   "cell_type": "code",
   "execution_count": 38,
   "id": "68d9b1e3-60fe-4c87-a2e7-12619ea91c4a",
   "metadata": {},
   "outputs": [
    {
     "name": "stdout",
     "output_type": "stream",
     "text": [
      "952 952\n"
     ]
    },
    {
     "ename": "NameError",
     "evalue": "name 'h_f' is not defined",
     "output_type": "error",
     "traceback": [
      "\u001b[0;31m---------------------------------------------------------------------------\u001b[0m",
      "\u001b[0;31mNameError\u001b[0m                                 Traceback (most recent call last)",
      "\u001b[0;32m<ipython-input-38-787b6df25210>\u001b[0m in \u001b[0;36m<module>\u001b[0;34m\u001b[0m\n\u001b[1;32m     43\u001b[0m     \u001b[0mhp_signal\u001b[0m\u001b[0;34m,\u001b[0m \u001b[0mhc_signal\u001b[0m \u001b[0;34m=\u001b[0m \u001b[0mgenerate_signal\u001b[0m\u001b[0;34m(\u001b[0m\u001b[0msg\u001b[0m\u001b[0;34m[\u001b[0m\u001b[0;36m0\u001b[0m\u001b[0;34m]\u001b[0m\u001b[0;34m,\u001b[0m \u001b[0mdelta_t\u001b[0m\u001b[0;34m,\u001b[0m \u001b[0mf_min\u001b[0m\u001b[0;34m)\u001b[0m\u001b[0;34m\u001b[0m\u001b[0;34m\u001b[0m\u001b[0m\n\u001b[1;32m     44\u001b[0m \u001b[0;34m\u001b[0m\u001b[0m\n\u001b[0;32m---> 45\u001b[0;31m     \u001b[0mmatch\u001b[0m \u001b[0;34m=\u001b[0m \u001b[0mcompute_match\u001b[0m\u001b[0;34m(\u001b[0m\u001b[0msg\u001b[0m\u001b[0;34m[\u001b[0m\u001b[0mi\u001b[0m\u001b[0;34m]\u001b[0m\u001b[0;34m,\u001b[0m \u001b[0mtb\u001b[0m\u001b[0;34m,\u001b[0m \u001b[0mtemp_indices\u001b[0m\u001b[0;34m,\u001b[0m \u001b[0mdelta_f\u001b[0m\u001b[0;34m,\u001b[0m \u001b[0mf_min\u001b[0m\u001b[0;34m)\u001b[0m \u001b[0;31m#Might want to take psd as an argument\u001b[0m\u001b[0;34m\u001b[0m\u001b[0;34m\u001b[0m\u001b[0m\n\u001b[0m\u001b[1;32m     46\u001b[0m     \u001b[0mprint\u001b[0m\u001b[0;34m(\u001b[0m\u001b[0mmax\u001b[0m\u001b[0;34m(\u001b[0m\u001b[0mmatch\u001b[0m\u001b[0;34m)\u001b[0m\u001b[0;34m)\u001b[0m\u001b[0;34m\u001b[0m\u001b[0;34m\u001b[0m\u001b[0m\n\u001b[1;32m     47\u001b[0m \u001b[0mplt\u001b[0m\u001b[0;34m.\u001b[0m\u001b[0mplot\u001b[0m\u001b[0;34m(\u001b[0m\u001b[0mmatch\u001b[0m\u001b[0;34m,\u001b[0m \u001b[0;34m'.'\u001b[0m\u001b[0;34m)\u001b[0m\u001b[0;34m\u001b[0m\u001b[0;34m\u001b[0m\u001b[0m\n",
      "\u001b[0;32m<ipython-input-38-787b6df25210>\u001b[0m in \u001b[0;36mcompute_match\u001b[0;34m(sg, tb, temp_indices, delta_f, f_min)\u001b[0m\n\u001b[1;32m     25\u001b[0m         \u001b[0mind\u001b[0m \u001b[0;34m=\u001b[0m \u001b[0mtemp_indices\u001b[0m\u001b[0;34m[\u001b[0m\u001b[0mi\u001b[0m\u001b[0;34m]\u001b[0m\u001b[0;34m\u001b[0m\u001b[0;34m\u001b[0m\u001b[0m\n\u001b[1;32m     26\u001b[0m         \u001b[0mhp_template\u001b[0m\u001b[0;34m,\u001b[0m \u001b[0mhc_template\u001b[0m \u001b[0;34m=\u001b[0m \u001b[0mgenerate_template\u001b[0m\u001b[0;34m(\u001b[0m\u001b[0mtb\u001b[0m\u001b[0;34m[\u001b[0m\u001b[0mind\u001b[0m\u001b[0;34m]\u001b[0m\u001b[0;34m,\u001b[0m \u001b[0mdelta_f\u001b[0m\u001b[0;34m,\u001b[0m \u001b[0mf_min\u001b[0m\u001b[0;34m)\u001b[0m\u001b[0;34m\u001b[0m\u001b[0;34m\u001b[0m\u001b[0m\n\u001b[0;32m---> 27\u001b[0;31m         \u001b[0mh_f\u001b[0m\u001b[0;34m.\u001b[0m\u001b[0mresize\u001b[0m\u001b[0;34m(\u001b[0m\u001b[0mlen\u001b[0m\u001b[0;34m(\u001b[0m\u001b[0ms_f\u001b[0m\u001b[0;34m)\u001b[0m\u001b[0;34m)\u001b[0m\u001b[0;34m\u001b[0m\u001b[0;34m\u001b[0m\u001b[0m\n\u001b[0m\u001b[1;32m     28\u001b[0m         \u001b[0;31m#s_f, hp, hc = resize_wfs(s_f, hp_template, hc_template)\u001b[0m\u001b[0;34m\u001b[0m\u001b[0;34m\u001b[0m\u001b[0;34m\u001b[0m\u001b[0m\n\u001b[1;32m     29\u001b[0m         \u001b[0mmatch\u001b[0m\u001b[0;34m.\u001b[0m\u001b[0mappend\u001b[0m\u001b[0;34m(\u001b[0m\u001b[0mfilter\u001b[0m\u001b[0;34m.\u001b[0m\u001b[0mmatch\u001b[0m\u001b[0;34m(\u001b[0m\u001b[0mhp_template\u001b[0m\u001b[0;34m,\u001b[0m \u001b[0ms_f\u001b[0m\u001b[0;34m,\u001b[0m \u001b[0mpsd\u001b[0m \u001b[0;34m=\u001b[0m \u001b[0;32mNone\u001b[0m\u001b[0;34m,\u001b[0m \u001b[0mlow_frequency_cutoff\u001b[0m \u001b[0;34m=\u001b[0m \u001b[0mf_min\u001b[0m\u001b[0;34m)\u001b[0m\u001b[0;34m[\u001b[0m\u001b[0;36m0\u001b[0m\u001b[0;34m]\u001b[0m\u001b[0;34m)\u001b[0m\u001b[0;34m\u001b[0m\u001b[0;34m\u001b[0m\u001b[0m\n",
      "\u001b[0;31mNameError\u001b[0m: name 'h_f' is not defined"
     ]
    }
   ],
   "source": [
    "def check_tau0_for_template_generation(tb, signal, tau0_threshold):\n",
    "    temp_indices = []\n",
    "    for i in range(len(tb)):\n",
    "        if ( abs(tb[i].tau0 - signal.tau0) < tau0_threshold):\n",
    "            temp_indices.append(i)\n",
    "    return temp_indices\n",
    "\n",
    "def resize_wfs(s_f, hp, hc):\n",
    "    if (len(s_f) > len(hp)):\n",
    "        hp.resize(len(s_f))\n",
    "        hc.resize(len(s_f))\n",
    "    else:\n",
    "        s_f.resize(len(hp))\n",
    "    return s_f, hp, hc    \n",
    "        \n",
    "def compute_match(sg, tb, temp_indices, delta_f, f_min):\n",
    "    #Generate signal, project onto the detector frame and perform the FFT\n",
    "    hp_signal, hc_signal = generate_signal(sg, delta_t, f_min)\n",
    "    signal_detector = hp_signal\n",
    "    #signal_detector = signal_to_detector_frame(d, hp_signal, hc_signal, sg)\n",
    "    s_f = signal_detector.to_frequencyseries()\n",
    "    \n",
    "    match = []\n",
    "    for i in range(len(temp_indices)):\n",
    "        ind = temp_indices[i]\n",
    "        hp_template, hc_template = generate_template(tb[ind], delta_f, f_min)\n",
    "        h_f.resize(len(s_f))\n",
    "        #s_f, hp, hc = resize_wfs(s_f, hp_template, hc_template)\n",
    "        match.append(filter.match(hp_template, s_f, psd = None, low_frequency_cutoff = f_min)[0])\n",
    "    return match    \n",
    "\n",
    "\n",
    "d = detector.Detector('H1')\n",
    "tau0_threshold = 30\n",
    "match = []\n",
    "\n",
    "for i in range(1):\n",
    "    #Check for tau0 of templates\n",
    "    temp_indices = check_tau0_for_template_generation(tb, sg[i],tau0_threshold)\n",
    "    print(len(tb), len(temp_indices))\n",
    "        \n",
    "    hp_template, hc_template = generate_template(tb[0], delta_f, f_min)\n",
    "    hp_signal, hc_signal = generate_signal(sg[0], delta_t, f_min)\n",
    "\n",
    "    match = compute_match(sg[i], tb, temp_indices, delta_f, f_min) #Might want to take psd as an argument   \n",
    "    print(max(match))\n",
    "plt.plot(match, '.')\n",
    "    #template = types.frequencyseries.FrequencySeries(hp, delta_f = delta_f)\n",
    "    #signal = types.frequencyseries.FrequencySeries(signals[0], delta_f = delta_f)"
   ]
  }
 ],
 "metadata": {
  "kernelspec": {
   "display_name": "Python 3",
   "language": "python",
   "name": "python3"
  },
  "language_info": {
   "codemirror_mode": {
    "name": "ipython",
    "version": 3
   },
   "file_extension": ".py",
   "mimetype": "text/x-python",
   "name": "python",
   "nbconvert_exporter": "python",
   "pygments_lexer": "ipython3",
   "version": "3.7.3"
  }
 },
 "nbformat": 4,
 "nbformat_minor": 5
}
