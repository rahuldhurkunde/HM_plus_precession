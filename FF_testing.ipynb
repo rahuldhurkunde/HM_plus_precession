{
 "cells": [
  {
   "cell_type": "markdown",
   "id": "anonymous-driver",
   "metadata": {},
   "source": [
    "Import functions "
   ]
  },
  {
   "cell_type": "code",
   "execution_count": 7,
   "id": "a7419b91-6e1f-4802-9145-20784579b5db",
   "metadata": {},
   "outputs": [
    {
     "name": "stdout",
     "output_type": "stream",
     "text": [
      "95.45800965419659\n"
     ]
    }
   ],
   "source": [
    "#%matplotlib widget\n",
    "import pycbc\n",
    "from pycbc import waveform, conversions, filter, types, distributions, detector, psd\n",
    "import matplotlib.pyplot as plt\n",
    "import numpy as np\n",
    "import mass as mass\n",
    "import functions as func\n",
    "import injections as inj\n",
    "import scipy\n",
    "import seaborn as sns\n",
    "import importlib\n",
    "from random import randrange\n",
    "import time\n",
    "import h5py\n",
    "import matplotlib.gridspec as gridspec\n",
    "from scipy.interpolate import griddata\n",
    "import lal\n",
    "lal.ClobberDebugLevel(0)\n",
    "\n",
    "#plt.rcParams.update({\n",
    "#    \"text.usetex\": True})\n",
    "importlib.reload(func)\n",
    "importlib.reload(inj)\n",
    "print(conversions.tau0_from_mass1_mass2(3.0, 3.0, 15.0))"
   ]
  },
  {
   "cell_type": "markdown",
   "id": "front-vision",
   "metadata": {},
   "source": [
    "Read the Template Bank and initialize some variables"
   ]
  },
  {
   "cell_type": "code",
   "execution_count": 10,
   "id": "narrow-speaker",
   "metadata": {},
   "outputs": [
    {
     "name": "stdout",
     "output_type": "stream",
     "text": [
      "Template bank -- banks/ZDHP/combined_bank.hdf\n",
      "171.82441737755386 243178 \n",
      " TB reading time 6.556130886077881\n"
     ]
    }
   ],
   "source": [
    "delta_f = 1/32\n",
    "delta_t = 1.0/2048\n",
    "f_min  = 10.0\n",
    "\n",
    "start = time.time()\n",
    "tb = func.read_tb(\"banks/ZDHP/combined_bank.hdf\", f_min)\n",
    "end = time.time()\n",
    "#func.get_mass_ranges_from_TB(tb)\n",
    "print(conversions.tau0_from_mass1_mass2(5.0, 1.0, 15.0), len(tb), '\\n TB reading time', end-start)"
   ]
  },
  {
   "cell_type": "markdown",
   "id": "ongoing-agreement",
   "metadata": {},
   "source": [
    "Read injections from a file"
   ]
  },
  {
   "cell_type": "code",
   "execution_count": 8,
   "id": "neural-assurance",
   "metadata": {},
   "outputs": [
    {
     "name": "stdout",
     "output_type": "stream",
     "text": [
      "\n"
     ]
    },
    {
     "name": "stderr",
     "output_type": "stream",
     "text": [
      "/work/rahul.dhurkunde/4ogc/lib/python3.7/site-packages/IPython/core/pylabtools.py:151: UserWarning: Creating legend with loc=\"best\" can be slow with large amounts of data.\n",
      "  fig.canvas.print_figure(bytes_io, **kw)\n"
     ]
    },
    {
     "data": {
      "image/png": "[encoded data removed]",
      "text/plain": [
       "<Figure size 432x288 with 1 Axes>"
      ]
     },
     "metadata": {
      "needs_background": "light"
     },
     "output_type": "display_data"
    },
    {
     "name": "stdout",
     "output_type": "stream",
     "text": [
      "No of signals 10\n"
     ]
    }
   ],
   "source": [
    "nsignal = 10\n",
    "approximant_sg = 'IMRPhenomD'\n",
    "approximant_tb1 = 'IMRPhenomD'\n",
    "HMs = False     #Only for signals as of now\n",
    "\n",
    "sg = []\n",
    "for k in range(1):\n",
    "    filename = 'injections/100000_inj/aligned_injections/%s.hdf' %k\n",
    "    sg = sg + inj.read_injections_HDF(filename, nsignal, f_min)\n",
    "    \n",
    "print()    \n",
    "tb_m1 = [x.m1 for x in tb][:-1000000]\n",
    "tb_m2 = [x.m2 for x in tb][:-1000000]\n",
    "plt.plot(tb_m1, tb_m2, '.', label='templates')\n",
    "sg_m1 = [x.m1 for x in sg]\n",
    "sg_m2 = [x.m2 for x in sg]\n",
    "plt.plot(sg_m1, sg_m2, 'x', color='red', label = 'signals')\n",
    "plt.legend()\n",
    "plt.show()\n",
    "print('No of signals', len(sg))"
   ]
  },
  {
   "cell_type": "markdown",
   "id": "f57078c8-bd9a-4569-baaa-061af3e90c63",
   "metadata": {},
   "source": [
    "Tau distributions"
   ]
  },
  {
   "cell_type": "code",
   "execution_count": null,
   "id": "56302283-351f-4912-a83d-5f6ef01a7ef9",
   "metadata": {},
   "outputs": [],
   "source": [
    "sg_tau = np.array([x.tau0 for x in sg])\n",
    "tb_tau = np.array([x.tau0 for x in tb1])\n",
    "plt.hist(tb_tau, density = True, bins = 20, label = 'templates')\n",
    "plt.hist(sg_tau, density = True, label = 'signal')\n",
    "plt.xlabel('Tau')\n",
    "plt.legend()\n",
    "plt.show()\n",
    "print('Extreme taus of templates', min(tb_tau), max(tb_tau))\n",
    "print('Extreme taus of signal', min(sg_tau), max(sg_tau))"
   ]
  },
  {
   "cell_type": "markdown",
   "id": "f6cba9f5-d281-49a0-a513-c0be59523564",
   "metadata": {},
   "source": [
    "Read FULL bank matches from files"
   ]
  },
  {
   "cell_type": "code",
   "execution_count": null,
   "id": "3d03c98e-c344-4a4a-9c07-34e421dff293",
   "metadata": {},
   "outputs": [],
   "source": [
    "tau_crawl = 'injections/tau_files/tau_crawl_50000_aligned.txt'\n",
    "tau_tolerance = 0.3\n",
    "tau_bin_edges = np.loadtxt(tau_crawl)[:,0]\n",
    "tau_bin_statistic = np.loadtxt(tau_crawl)[:,1]\n",
    "tau_func = func.fit_tau_envelope(tau_bin_edges, tau_bin_statistic, tau_tolerance)\n",
    "\n",
    "#tau_func = func.flat_tau_envelope(1.5, 100.0, nbins_tau_threshold)"
   ]
  },
  {
   "cell_type": "markdown",
   "id": "f7cc35a3-f200-4b0f-a65a-5e63fad7f10a",
   "metadata": {},
   "source": [
    "Compute match with the templates having a tau0 mismatch (w.r.t signal) within a tolerance  "
   ]
  },
  {
   "cell_type": "code",
   "execution_count": null,
   "id": "04c44636-ce44-4a5a-af6f-6de3b68452f3",
   "metadata": {},
   "outputs": [],
   "source": [
    "detect = detector.Detector('H1')\n",
    "tau0_threshold = 0.5\n",
    "signal_matches = []\n",
    "length = int(1.0/(delta_f*delta_t*2)) + 1\n",
    "PSD = psd.analytical.aLIGOZeroDetHighPower(length, delta_f, f_min)\n",
    "\n",
    "diff_match_ff = []\n",
    "tau_diff = []\n",
    "recovered_tau0 = []\n",
    "start = time.time()\n",
    "for n in range(nsignal):\n",
    "    #Check for tau0 of templates\n",
    "    #n = 17\n",
    "    temp_indices = func.check_tau0_for_template_generation(tb, sg[n], tau0_threshold)\n",
    "    print('Injection', n, 'has templates around', len(temp_indices))\n",
    "    #matches = func.compute_match(tb1, sg[n], PSD, temp_indices, delta_f, f_min, detect, approximant_tb1, approximant_sg, HMs)\n",
    "    #signal_matches.append(np.max(matches))\n",
    "    #recovered_tau0.append(tb1[temp_indices[np.argmax(matches)]].tau0)    \n",
    "    \n",
    "    #filename = 'matches/full_matches/TF2_%i.hdf' %n\n",
    "    #func.save_matches_HDF(matches, temp_indices, filename)\n",
    "    #print('Execution time = ', end - start, 'no.of templates', len(temp_indices))\n",
    "#print(signal_matches)    "
   ]
  },
  {
   "cell_type": "markdown",
   "id": "bd1c238d-451a-4ca3-a9cf-e501aa0449fa",
   "metadata": {},
   "source": [
    "Compare the FF after introducing a tau-threshold"
   ]
  },
  {
   "cell_type": "markdown",
   "id": "f31285f9-6755-42db-ab5b-2e72f32409c3",
   "metadata": {},
   "source": [
    "Scatter plot with colors indicating the match values"
   ]
  },
  {
   "cell_type": "code",
   "execution_count": null,
   "id": "98ea8644-00b5-4d9a-8528-98a65fbaae1b",
   "metadata": {},
   "outputs": [],
   "source": [
    "fig1, ax1 = plt.subplots()\n",
    "\n",
    "sg_m1 = [x.m1 for x in sg]\n",
    "sg_m2 = [x.m2 for x in sg]    \n",
    "#im = plt.tricontourf(sg_m1, sg_m2, signal_matches)\n",
    "im = plt.scatter(sg_m1, sg_m2, c = signal_matches)\n",
    "#plt.plot(sg_m1, sg_m2, 'x', color='red')\n",
    "fig1.colorbar(im)\n",
    "plt.xlabel('$m_1$')\n",
    "plt.ylabel('$m_2$')\n",
    "plt.title('FF across the complete bank')\n",
    "plt.savefig('plots/ff_complete_bank_50.png', dpi = 600)\n",
    "print(min(signal_matches))"
   ]
  },
  {
   "cell_type": "code",
   "execution_count": null,
   "id": "9abb558a-5944-4edd-877c-ee38311952d4",
   "metadata": {},
   "outputs": [],
   "source": [
    "axes = gridspec.GridSpec(2,1)\n",
    "plt.figure()\n",
    "\n",
    "sg_m1 = [x.m1 for x in sg]\n",
    "sg_m2 = [x.m2 for x in sg]    \n",
    "\n",
    "\n",
    "ax1 = plt.subplot(axes[0,0])\n",
    "im1 = plt.scatter(sg_m1, sg_m2, c = signal_matches)\n",
    "plt.colorbar(im1)\n",
    "\n",
    "ax2 = plt.subplot(axes[1,0])\n",
    "im2 = plt.scatter(sg_m1, sg_m2, c = ff_array)\n",
    "plt.colorbar(im2)\n",
    "plt.xlabel('$m_1$')\n",
    "plt.ylabel('$m_2$')\n",
    "print(max(signal_matches))"
   ]
  },
  {
   "cell_type": "code",
   "execution_count": null,
   "id": "e18376e8-3c9d-4922-85f3-62fd100eefc1",
   "metadata": {},
   "outputs": [],
   "source": [
    "start = time.time()\n",
    "dot_products = func.real_imag_dot_product(sg, PSD, f_min, delta_f, approximant_sg, nsignal)\n",
    "end = time.time()\n",
    "print('Exec time', end-start)\n",
    "#xi = np.linspace(min(sg_m1),max(sg_m1),100)\n",
    "#yi = np.linspace(min(sg_m2),max(sg_m2),100)\n",
    "#zi = griddata((sg_m1, sg_m2), dot_products, (xi[None,:], yi[:,None]), method='linear')\n",
    "#plt.pcolormesh(xi, yi, zi)\n",
    "fig3, ax3 = plt.subplots() \n",
    "#im = plt.tricontourf(sg_m1, sg_m2, dot_products)\n",
    "im3 = plt.scatter(sg_m1, sg_m2, c = dot_products)\n",
    "#print(dot_products)\n",
    "fig3.colorbar(im3)\n",
    "plt.savefig('hplus_hcross.png', dpi=600)"
   ]
  },
  {
   "cell_type": "markdown",
   "id": "120a11da-c1de-494d-88a1-df37694a944e",
   "metadata": {},
   "source": [
    "Distribution of match across the template (tau0)"
   ]
  },
  {
   "cell_type": "code",
   "execution_count": null,
   "id": "ad652f44-f052-4a66-acdf-e5e1965044a7",
   "metadata": {},
   "outputs": [],
   "source": [
    "tb_taus = np.array([x.tau0 for x in tb])\n",
    "yolo = []\n",
    "for i in range(nsignal):\n",
    "    yolo.append(np.abs(ff_array[i] - signal_matches[i]))\n",
    "#plt.plot(tb_taus, match_array[1], '.')\n",
    "#plt.plot(tb_taus[np.argmax(match_array[0])], np.max(match_array[0]), 'x', color = 'red', label = 'Best match')\n",
    "plt.scatter(sg_tau0, yolo)\n",
    "plt.xlabel('Tau0')\n",
    "plt.ylabel('Match')\n",
    "plt.title('Match of a single signal with every template')\n",
    "#plt.legend()"
   ]
  },
  {
   "cell_type": "code",
   "execution_count": null,
   "id": "9cf353c0-81e0-4fc3-b445-11ef331394aa",
   "metadata": {},
   "outputs": [],
   "source": [
    "n, bins = np.histogram(signal_matches, density = True, bins=50)\n",
    "cumulative = np.cumsum(n)*(bins[1]-bins[0])\n",
    "print(len(cumulative), len(bins))\n",
    "plt.yscale('log')\n",
    "plt.plot(bins[:-1], cumulative)\n",
    "plt.xlabel('FF')\n",
    "plt.ylabel('Cumulative probability')\n",
    "plt.grid()\n",
    "plt.show()"
   ]
  }
 ],
 "metadata": {
  "kernelspec": {
   "display_name": "Python 3 (ipykernel)",
   "language": "python",
   "name": "python3"
  },
  "language_info": {
   "codemirror_mode": {
    "name": "ipython",
    "version": 3
   },
   "file_extension": ".py",
   "mimetype": "text/x-python",
   "name": "python",
   "nbconvert_exporter": "python",
   "pygments_lexer": "ipython3",
   "version": "3.7.3"
  }
 },
 "nbformat": 4,
 "nbformat_minor": 5
}
